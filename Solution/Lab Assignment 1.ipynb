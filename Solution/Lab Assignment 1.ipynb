{
 "cells": [
  {
   "cell_type": "code",
   "execution_count": 1,
   "metadata": {
    "collapsed": true
   },
   "outputs": [],
   "source": [
    "from sympy import *\n",
    "from sympy.plotting import (plot, plot_parametric,plot3d_parametric_surface, plot3d_parametric_line,plot3d)"
   ]
  },
  {
   "cell_type": "markdown",
   "metadata": {},
   "source": [
    "Problem 1(a)\n",
    "\n",
    "Let $u = x^2 +1$, then $du = 2x dx$. $\\int f(x)dx = \\int x^3 \\sqrt{x^2+1} dx = \\int \\frac{1}{2} x^2 \\sqrt{x^2+1}\\cdot 2x dx = \\int \\frac{1}{2}(u-1)\\sqrt{u} du = \\frac{1}{2} \\int u^{3/2} - u^{1/2} du = \\frac{1}{2} (\\frac{2}{5}u^{5/2} - \\frac{2}{3} u^{3/2}) +C = \\frac{1}{5}u^{5/2} - \\frac{1}{3} u^{3/2} +C = \\frac{1}{5}(x^2+1)^{5/2} - \\frac{1}{3} (x^2+1)^{3/2} +C$ "
   ]
  },
  {
   "cell_type": "code",
   "execution_count": 2,
   "metadata": {
    "collapsed": false
   },
   "outputs": [
    {
     "name": "stdout",
     "output_type": "stream",
     "text": [
      "du*sqrt(u)*x**2/2\n",
      "[-sqrt(u - 1), sqrt(u - 1)]\n",
      "f(x)dx is finally simplied to du*sqrt(u)*(u - 1)/2\n",
      "sqrt(u)*(u - 1)**2/5 + sqrt(u)*(u - 1)/15 - 2*sqrt(u)/15\n",
      "integration w.r.t u is u**(3/2)*(3*u - 5)/15\n",
      "substitude x back, we get (x**2 + 1)**(3/2)*(3*x**2 - 2)/15\n"
     ]
    }
   ],
   "source": [
    "# Problem 1\n",
    "# Part(a)\n",
    "\n",
    "x = symbols('x')\n",
    "f = x**3 *sqrt(x**2 +1)\n",
    "u = symbols('u')\n",
    "dx = symbols('dx')\n",
    "du = symbols('du') \n",
    "u0 = x**2 +1\n",
    "dudx = diff(u0,x)\n",
    "newf = f.subs(x**2+1,u) *du/dudx\n",
    "print(newf)\n",
    "x0 = solve(u0-u,x)\n",
    "print(x0)\n",
    "x0 = x0[1]\n",
    "newf = newf.subs(x,x0)\n",
    "print(\"f(x)dx is finally simplied to\",newf)\n",
    "print(integrate(newf/du,u))\n",
    "int_fu = simplify(integrate(newf/du,u))\n",
    "print(\"integration w.r.t u is\",int_fu)\n",
    "print(\"substitude x back, we get\", int_fu.subs(u, u0))\n",
    "\n",
    "\n"
   ]
  },
  {
   "cell_type": "code",
   "execution_count": 3,
   "metadata": {
    "collapsed": false
   },
   "outputs": [
    {
     "name": "stdout",
     "output_type": "stream",
     "text": [
      "x**4*sqrt(x**2 + 1)/5 + x**2*sqrt(x**2 + 1)/15 - 2*sqrt(x**2 + 1)/15\n",
      "The result agrees with part(a)\n",
      "-2*sqrt(2)/15 + 30098*sqrt(101)/15\n",
      "20165.2218678248\n",
      "20165.2218678248\n",
      "Result Agrees\n"
     ]
    }
   ],
   "source": [
    "\n",
    "# part b\n",
    "int_f = integrate(f,x)\n",
    "print(int_f)\n",
    "print(\"The result agrees with part(a)\")\n",
    "\n",
    "# part(c)\n",
    "value = int_f.subs(x,10)-int_f.subs(x,-1)\n",
    "print(value)\n",
    "print(value.evalf())\n",
    "\n",
    "# part(d)\n",
    "defint = integrate(f,(x,-1,10))\n",
    "print(defint.evalf())\n",
    "print(\"Result Agrees\")"
   ]
  },
  {
   "cell_type": "code",
   "execution_count": 4,
   "metadata": {
    "collapsed": false
   },
   "outputs": [
    {
     "data": {
      "image/png": "[encoded data removed]",
      "text/plain": [
       "<matplotlib.figure.Figure at 0x108837d30>"
      ]
     },
     "metadata": {},
     "output_type": "display_data"
    },
    {
     "name": "stdout",
     "output_type": "stream",
     "text": [
      "2 2 2.00000000000000\n"
     ]
    }
   ],
   "source": [
    "#Problem 2\n",
    "#Part (a)\n",
    "x = symbols('x')\n",
    "f1= 2*x*exp(x)\n",
    "f2 = exp(sqrt(x))\n",
    "f3=exp(sin(x)) * sin(2*x)\n",
    "plot((f1,(x,0,1)),(f2,(x,0,1)),(f3,(x,0,pi/2)))\n",
    "\n",
    "#Part (b)\n",
    "A1 = integrate(f1,(x,0,1))\n",
    "A2 = integrate(f2,(x,0,1))\n",
    "A3 = integrate(f3,(x,0,pi/2))\n",
    "print(A1,A2,A3.evalf())"
   ]
  },
  {
   "cell_type": "code",
   "execution_count": 5,
   "metadata": {
    "collapsed": false
   },
   "outputs": [
    {
     "name": "stdout",
     "output_type": "stream",
     "text": [
      "2*du*sqrt(x)*exp(u)\n",
      "it can be simplified as 2*du*u*exp(u) ,same as f1\n",
      "2*du*u*exp(u) same as f1\n"
     ]
    }
   ],
   "source": [
    "#Part (c)\n",
    "u = symbols('u')\n",
    "dx = symbols('dx')\n",
    "du = symbols('du')\n",
    "u2 = sqrt(x)\n",
    "du2dx = diff(u2,x)\n",
    "newf2 = f2.subs(sqrt(x),u) *du/du2dx\n",
    "print(newf2)\n",
    "print(\"it can be simplified as\", newf2.subs(sqrt(x),u), \",same as f1\")\n",
    "\n",
    "u3 = sin(x)\n",
    "du3dx = diff(u3,x)\n",
    "f3 = expand_trig(f3)\n",
    "newf3 = f3.subs(sin(x),u) *du/du3dx\n",
    "print(newf3, \"same as f1\")"
   ]
  },
  {
   "cell_type": "code",
   "execution_count": 6,
   "metadata": {
    "collapsed": false
   },
   "outputs": [
    {
     "data": {
      "image/png": "[encoded data removed]",
      "text/plain": [
       "<matplotlib.figure.Figure at 0x108434a90>"
      ]
     },
     "metadata": {},
     "output_type": "display_data"
    },
    {
     "data": {
      "text/plain": [
       "<sympy.plotting.plot.Plot at 0x108434828>"
      ]
     },
     "execution_count": 6,
     "metadata": {},
     "output_type": "execute_result"
    }
   ],
   "source": [
    "# Problem 3\n",
    "# part(a)\n",
    "x = symbols('x')\n",
    "f = x**5 -6* x**3 +4*x\n",
    "g = x\n",
    "plot((f,(x,-3,3)),(g,(x,-3,3)),ylim=[-10,10])"
   ]
  },
  {
   "cell_type": "code",
   "execution_count": 7,
   "metadata": {
    "collapsed": false
   },
   "outputs": [
    {
     "name": "stdout",
     "output_type": "stream",
     "text": [
      "[0, -sqrt(-sqrt(6) + 3), sqrt(-sqrt(6) + 3), -sqrt(sqrt(6) + 3), sqrt(sqrt(6) + 3)]\n"
     ]
    }
   ],
   "source": [
    "x_sec = solve(f-g,x)\n",
    "print(x_sec)"
   ]
  },
  {
   "cell_type": "code",
   "execution_count": 8,
   "metadata": {
    "collapsed": false
   },
   "outputs": [
    {
     "name": "stdout",
     "output_type": "stream",
     "text": [
      "-(sqrt(6) + 3)**3/3 - 9*sqrt(6) - 6*(-sqrt(6) + 3)**2 + 2*(-sqrt(6) + 3)**3/3 + 9 + 3*(sqrt(6) + 3)**2 20.3938769133981\n"
     ]
    }
   ],
   "source": [
    "A1 = integrate(f-g,(x,x_sec[3],x_sec[1]))\n",
    "A2 = integrate(g-f,(x,x_sec[1],x_sec[0]))\n",
    "A3 = integrate(f-g,(x,x_sec[0],x_sec[2]))\n",
    "A4 = integrate(g-f,(x,x_sec[2],x_sec[4]))\n",
    "area = A1+A2+A3+A4\n",
    "print(area, area.evalf())"
   ]
  },
  {
   "cell_type": "code",
   "execution_count": null,
   "metadata": {
    "collapsed": true
   },
   "outputs": [],
   "source": []
  }
 ],
 "metadata": {
  "kernelspec": {
   "display_name": "Python 3",
   "language": "python",
   "name": "python3"
  },
  "language_info": {
   "codemirror_mode": {
    "name": "ipython",
    "version": 3
   },
   "file_extension": ".py",
   "mimetype": "text/x-python",
   "name": "python",
   "nbconvert_exporter": "python",
   "pygments_lexer": "ipython3",
   "version": "3.6.0"
  }
 },
 "nbformat": 4,
 "nbformat_minor": 2
}
