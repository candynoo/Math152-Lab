{
 "cells": [
  {
   "cell_type": "code",
   "execution_count": 3,
   "metadata": {
    "collapsed": false
   },
   "outputs": [],
   "source": [
    "from sympy import *\n",
    "from sympy.plotting import (plot, plot_parametric,plot3d_parametric_surface, plot3d_parametric_line,plot3d)"
   ]
  },
  {
   "cell_type": "code",
   "execution_count": 12,
   "metadata": {
    "collapsed": false
   },
   "outputs": [
    {
     "name": "stdout",
     "output_type": "stream",
     "text": [
      "Problem 1\n",
      "Part(a)\n",
      "-25*sqrt(3)/2 + 50*pi/3\n",
      "30.7092424652189\n",
      "Part(b)\n",
      "25*sqrt(3)/2\n",
      "21.6506350946110\n",
      "Part(c)\n",
      "Using formula, area is  50*pi\n",
      "Total is  50*pi/3 Answer are same\n",
      "52.3598775598299\n"
     ]
    }
   ],
   "source": [
    "print(\"Problem 1\")\n",
    "print(\"Part(a)\")\n",
    "x = symbols('x')\n",
    "y = sqrt(10**2-x**2)\n",
    "A2 = integrate(y, (x, 10*cos(pi/3),10))\n",
    "print(A2)\n",
    "print(A2.evalf())\n",
    "\n",
    "print(\"Part(b)\")\n",
    "A1 = 10*cos(pi/3) * 10*sin(pi/3) /2\n",
    "print(A1)\n",
    "print(A1.evalf())\n",
    "\n",
    "print(\"Part(c)\")\n",
    "print(\"Using formula, area is \", 10**2*pi/2)\n",
    "print(\"Total is \",A1+A2,\"Answer are same\")\n",
    "S = A1+A2\n",
    "print(S.evalf())"
   ]
  },
  {
   "cell_type": "markdown",
   "metadata": {},
   "source": [
    "Problem 2(a)\n",
    "\n",
    "Need to solve $$\\frac{Ax+B}{x^2+1}+\\frac{Cx+D}{x^2+3} =\\frac{x^3+2}{x^4+4x^2+3}$$\n",
    "\n",
    "The system of equation is $$(Ax+B)(x^2+3)+(Cx+D)(x^2+1)=x^3+2$$\n",
    "\n",
    "That is $$A+C=1, B+D=0, 3A+C=0, 3B+D=2$$"
   ]
  },
  {
   "cell_type": "code",
   "execution_count": 10,
   "metadata": {
    "collapsed": false
   },
   "outputs": [
    {
     "name": "stdout",
     "output_type": "stream",
     "text": [
      "Part(a)\n",
      "{A: -1/2, B: 1, C: 3/2, D: -1}\n",
      "(-x/2 + 1)/(x**2 + 1) + (3*x/2 - 1)/(x**2 + 3)\n",
      "Part(b)\n",
      "-(x - 2)/(2*(x**2 + 1)) + (3*x - 2)/(2*(x**2 + 3))\n",
      "Part(c)\n",
      "-log(x**2 + 1)/4 + atan(x)\n",
      "-log(x**2 + 1)/4 + 3*log(x**2 + 3)/4 + atan(x) - sqrt(3)*atan(sqrt(3)*x/3)/3\n"
     ]
    }
   ],
   "source": [
    "print(\"Part(a)\")\n",
    "A,B,C,D = symbols('A,B,C,D')\n",
    "soln = solve([A+C-1, B+D, 3*A+C, 3*B+D-2],A,B,C,D)\n",
    "print(soln)\n",
    "fexpand = (A*x+B)/(x**2+1)+(C*x+D)/(x**2+3)\n",
    "print(fexpand.subs(soln))\n",
    "\n",
    "print(\"Part(b)\")\n",
    "f = (x**3+2)/(x**4+4*x**2+3)\n",
    "ap = apart(f)\n",
    "print(ap)\n",
    "\n",
    "print(\"Part(c)\")\n",
    "#S1 = integrate((-x/2 + 1)/(x**2 + 1),x)+integrate((3*x/2 - 1)/(x**2 + 3),x)\n",
    "S1 = integrate((-x/2+1)/(x**2+1),x)\n",
    "S2 = integrate(f)\n",
    "print(S1)\n",
    "print(S2)"
   ]
  },
  {
   "cell_type": "code",
   "execution_count": 9,
   "metadata": {
    "collapsed": false
   },
   "outputs": [
    {
     "name": "stdout",
     "output_type": "stream",
     "text": [
      "{A: -1/2, B: 1, C: 3/2, D: -1}\n"
     ]
    }
   ],
   "source": [
    "test = solve([A+C-1, B+D, 3*A+C, 3*B+D-2], A,B,C,D)\n",
    "print(test)"
   ]
  },
  {
   "cell_type": "code",
   "execution_count": 46,
   "metadata": {
    "collapsed": false
   },
   "outputs": [
    {
     "name": "stdout",
     "output_type": "stream",
     "text": [
      "Problem 3\n",
      "part(a)\n",
      "u/(u**2 + 3*u + 2)\n",
      "part(b)\n",
      "2/(u + 2) - 1/(u + 1)\n",
      "-log(exp(x) + 1) + 2*log(exp(x) + 2) +C\n",
      "part(c)\n",
      "-log(exp(x) + 1) + 2*log(exp(x) + 2) +C\n"
     ]
    }
   ],
   "source": [
    "print(\"Problem 3\")\n",
    "print(\"part(a)\")\n",
    "x = symbols('x')\n",
    "u = symbols('u')\n",
    "f = exp(2*x)/(exp(2*x)+3*exp(x)+2)\n",
    "usub = exp(x)\n",
    "du = diff(usub,x)\n",
    "u0 = du.subs(usub,u)\n",
    "\n",
    "g = f.subs(exp(x),u)/u0\n",
    "print(g)\n",
    "\n",
    "print(\"part(b)\")\n",
    "ap = apart(g)\n",
    "print(ap)\n",
    "S1 = integrate(2/(u + 2),u)-integrate(1/(u + 1),u)\n",
    "print(S1.subs(u,usub),\"+C\")\n",
    "\n",
    "print(\"part(c)\")\n",
    "print(integrate(f,x),\"+C\")"
   ]
  },
  {
   "cell_type": "code",
   "execution_count": 53,
   "metadata": {
    "collapsed": false
   },
   "outputs": [
    {
     "name": "stdout",
     "output_type": "stream",
     "text": [
      "Problem 4\n",
      "part(a)\n",
      "oo\n",
      "part(b)\n",
      "pi\n",
      "part(c)\n"
     ]
    },
    {
     "data": {
      "image/png": "[encoded data removed]",
      "text/plain": [
       "<matplotlib.figure.Figure at 0x11358f198>"
      ]
     },
     "metadata": {},
     "output_type": "display_data"
    },
    {
     "name": "stdout",
     "output_type": "stream",
     "text": [
      "S diverges since dS is always greater than f\n"
     ]
    }
   ],
   "source": [
    "print(\"Problem 4\")\n",
    "print(\"part(a)\")\n",
    "x = symbols('x')\n",
    "area = integrate(f,(x,1,oo))\n",
    "print(area)\n",
    "\n",
    "print(\"part(b)\")\n",
    "volume = integrate(pi*f**2,(x,1,oo))\n",
    "print(volume)\n",
    "\n",
    "print(\"part(c)\")\n",
    "df = diff(f)\n",
    "dS = 2*pi*f*sqrt(1+df**2)\n",
    "plot(f,dS,(x,1,10))\n",
    "print(\"S diverges since dS is always greater than f\")"
   ]
  },
  {
   "cell_type": "code",
   "execution_count": null,
   "metadata": {
    "collapsed": true
   },
   "outputs": [],
   "source": []
  }
 ],
 "metadata": {
  "kernelspec": {
   "display_name": "Python 3",
   "language": "python",
   "name": "python3"
  },
  "language_info": {
   "codemirror_mode": {
    "name": "ipython",
    "version": 3
   },
   "file_extension": ".py",
   "mimetype": "text/x-python",
   "name": "python",
   "nbconvert_exporter": "python",
   "pygments_lexer": "ipython3",
   "version": "3.6.0"
  }
 },
 "nbformat": 4,
 "nbformat_minor": 2
}
