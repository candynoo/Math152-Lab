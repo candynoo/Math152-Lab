{
 "cells": [
  {
   "cell_type": "code",
   "execution_count": 1,
   "metadata": {
    "collapsed": true
   },
   "outputs": [],
   "source": [
    "from sympy import *\n",
    "from sympy.plotting import (plot, plot_parametric,plot3d_parametric_surface, plot3d_parametric_line,plot3d)"
   ]
  },
  {
   "cell_type": "code",
   "execution_count": 2,
   "metadata": {
    "collapsed": false
   },
   "outputs": [
    {
     "name": "stdout",
     "output_type": "stream",
     "text": [
      "Problem 1\n",
      "a**2*k/2 - 0.605*k\n",
      "-a**2*k/2 + 11.52*k\n",
      "[(1.28263857077416, -3.00107123731320), (1.28263857077416, 3.00107123731320)]\n"
     ]
    }
   ],
   "source": [
    "print(\"Problem 1\")\n",
    "x, k, a = symbols('x,k,a')\n",
    "W1 = integrate(k*x,(x,1.1,a))\n",
    "W2 = integrate(k*x,(x,a,4.8))\n",
    "print(W1)\n",
    "print(W2)\n",
    "soln = solve([W1-5,W2-9],[k,a])\n",
    "print(soln)"
   ]
  },
  {
   "cell_type": "code",
   "execution_count": 3,
   "metadata": {
    "collapsed": false
   },
   "outputs": [
    {
     "name": "stdout",
     "output_type": "stream",
     "text": [
      "Problem 2\n",
      "Part (a)\n",
      "198450.0*pi\n",
      "623449.062104894\n",
      "Part (b)\n",
      "-2450.0*pi*(-h + 3)**4 + 44100.0*pi*(-h + 3)**2\n",
      "Part (c)\n",
      "[-0.916511119873831, 1.36876100834224, 4.63123899165776, 6.91651111987383]\n"
     ]
    }
   ],
   "source": [
    "print(\"Problem 2\")\n",
    "print(\"Part (a)\")\n",
    "y = symbols('y')\n",
    "rho = 1000\n",
    "g = 9.8\n",
    "w_top = integrate(pi*(9-y**2)*rho*g*y,(y,0,3))\n",
    "print(w_top)\n",
    "print(w_top.evalf())\n",
    "\n",
    "print(\"Part (b)\")\n",
    "h = symbols('h')\n",
    "w_h = integrate(pi*(9-y**2)*rho*g*y,(y,0,3-h))\n",
    "print(w_h)\n",
    "\n",
    "print(\"Part (c)\")\n",
    "print(solve(w_h-100000*pi,h))"
   ]
  },
  {
   "cell_type": "code",
   "execution_count": 7,
   "metadata": {
    "collapsed": false
   },
   "outputs": [
    {
     "name": "stdout",
     "output_type": "stream",
     "text": [
      "Problem 3\n",
      "part (a)\n"
     ]
    },
    {
     "data": {
      "image/png": "[encoded data removed]",
      "text/plain": [
       "<matplotlib.figure.Figure at 0x10af3beb8>"
      ]
     },
     "metadata": {},
     "output_type": "display_data"
    },
    {
     "name": "stdout",
     "output_type": "stream",
     "text": [
      "pi**3/8\n",
      "3.87578458503748\n",
      "part (b)\n",
      "pi/8\n",
      "0.392699081698724\n",
      "part (c)\n",
      "pi/2\n",
      "pard (d)\n",
      "pi**2\n",
      "pi**3/8 equal to volume\n",
      "3.87578458503748\n"
     ]
    }
   ],
   "source": [
    "print(\"Problem 3\")\n",
    "print(\"part (a)\")\n",
    "x = symbols('x')\n",
    "f = (sin(x))**2\n",
    "g = (sin(x))**4\n",
    "plot(f,g,(x,0,pi))\n",
    "V = integrate(2*pi*(pi-x)*(f-g),(x,0,pi))\n",
    "print(simplify(V))\n",
    "print(V.evalf())\n",
    "\n",
    "print(\"part (b)\")\n",
    "area = integrate(f-g,(x,0,pi))\n",
    "print(area)\n",
    "print(area.evalf())\n",
    "\n",
    "print(\"part (c)\")\n",
    "x_bar = integrate(x*(f-g),(x,0,pi))/area\n",
    "print(x_bar)\n",
    "\n",
    "print(\"pard (d)\")\n",
    "d = 2*pi*(pi-x_bar)\n",
    "print(d)\n",
    "print(d*area, \"equal to volume\")\n",
    "anw=d*area\n",
    "print(anw.evalf())\n"
   ]
  },
  {
   "cell_type": "code",
   "execution_count": null,
   "metadata": {
    "collapsed": true
   },
   "outputs": [],
   "source": []
  }
 ],
 "metadata": {
  "kernelspec": {
   "display_name": "Python 3",
   "language": "python",
   "name": "python3"
  },
  "language_info": {
   "codemirror_mode": {
    "name": "ipython",
    "version": 3
   },
   "file_extension": ".py",
   "mimetype": "text/x-python",
   "name": "python",
   "nbconvert_exporter": "python",
   "pygments_lexer": "ipython3",
   "version": "3.6.0"
  }
 },
 "nbformat": 4,
 "nbformat_minor": 2
}
