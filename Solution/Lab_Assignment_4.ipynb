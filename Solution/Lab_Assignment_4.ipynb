{
 "cells": [
  {
   "cell_type": "code",
   "execution_count": 1,
   "metadata": {
    "collapsed": false
   },
   "outputs": [],
   "source": [
    "from sympy import *\n",
    "import numpy as np"
   ]
  },
  {
   "cell_type": "code",
   "execution_count": 6,
   "metadata": {
    "collapsed": false
   },
   "outputs": [
    {
     "name": "stdout",
     "output_type": "stream",
     "text": [
      "1.21175764053560\n"
     ]
    }
   ],
   "source": [
    "x = symbols('x')\n",
    "dx = 4/100\n",
    "xp = np.arange(1,5+dx,dx)\n",
    "yp = E**(xp/2)/xp**3\n",
    "from scipy.integrate import trapz\n",
    "print(trapz(yp,xp))"
   ]
  },
  {
   "cell_type": "code",
   "execution_count": 36,
   "metadata": {
    "collapsed": false
   },
   "outputs": [
    {
     "name": "stdout",
     "output_type": "stream",
     "text": [
      "Problem 1\n",
      "part(a)\n"
     ]
    },
    {
     "data": {
      "image/png": "[encoded data removed]",
      "text/plain": [
       "<matplotlib.figure.Figure at 0x1149755c0>"
      ]
     },
     "metadata": {},
     "output_type": "display_data"
    },
    {
     "name": "stdout",
     "output_type": "stream",
     "text": [
      "part(b)\n",
      "1.24278286691589\n",
      "problem 2\n",
      "1.18073241415531\n",
      "problem 3\n",
      "1.21093571327307\n"
     ]
    }
   ],
   "source": [
    "print(\"There are several methods for problem 1-3\")\n",
    "print(\"Problem 1\")\n",
    "print(\"part(a)\")\n",
    "x = symbols('x')\n",
    "f = exp(x/2)/x**3\n",
    "plot(f,(x,1,5))\n",
    "print(\"part(b)\")\n",
    "n = 100\n",
    "s = 0\n",
    "for i in np.linspace(1,5,n+1):\n",
    "    if i < 5:\n",
    "        s = s+ f.subs(x,i) * (5-1)/n\n",
    "print(s)\n",
    "\n",
    "print(\"problem 2\")\n",
    "s=0\n",
    "for i in np.linspace(1,5,n+1):\n",
    "    if i>1:\n",
    "        s = s+ f.subs(x,i) * (5-1)/n\n",
    "print(s)\n",
    "\n",
    "print(\"problem 3\")\n",
    "s=0\n",
    "for i in np.linspace(1+2/n,5+2/n,n+1):\n",
    "    if i < 5+2/n:\n",
    "        s = s+ f.subs(x,i) * (5-1)/n\n",
    "print(s)\n",
    "    "
   ]
  },
  {
   "cell_type": "code",
   "execution_count": 47,
   "metadata": {
    "collapsed": false
   },
   "outputs": [
    {
     "name": "stdout",
     "output_type": "stream",
     "text": [
      "Alternative Solution\n",
      "Problem 1(b)\n",
      "1.24278286691589\n",
      "Problem 2\n",
      "1.18073241415531\n",
      "Problem 3\n",
      "M= 1.21093571327307\n",
      "1.21175764053560 not equal to M\n"
     ]
    }
   ],
   "source": [
    "print(\"Alternative Solution\")\n",
    "print(\"Problem 1(b)\")\n",
    "n=100\n",
    "a=1\n",
    "b=5\n",
    "dx = (b-a)/n\n",
    "xp = np.arange(1,5,dx)\n",
    "#print(xp)\n",
    "yp = E**(xp/2)/xp**3\n",
    "L = np.sum(yp) *dx\n",
    "print(L)\n",
    "\n",
    "print(\"Problem 2\")\n",
    "xp = np.arange(1+dx, 5+dx,dx)\n",
    "yp = E**(xp/2)/xp**3\n",
    "R = np.sum(yp) *dx\n",
    "print(R)\n",
    "\n",
    "print(\"Problem 3\")\n",
    "xp = np.arange(1+dx/2, 5+dx/2,dx)\n",
    "yp = E**(xp/2)/xp**3\n",
    "M = np.sum(yp) *dx\n",
    "print(\"M=\",M)\n",
    "print((L+R)/2, \"not equal to M\")\n",
    "\n",
    "\n"
   ]
  },
  {
   "cell_type": "code",
   "execution_count": 50,
   "metadata": {
    "collapsed": false
   },
   "outputs": [
    {
     "name": "stdout",
     "output_type": "stream",
     "text": [
      "Problem 4\n",
      "1.21175764053560\n",
      "same as average of L and R\n"
     ]
    }
   ],
   "source": [
    "print(\"Problem 4\")\n",
    "xp = np.arange(1,5+dx,dx)\n",
    "yp = E**(xp/2)/xp**3\n",
    "T = (2*np.sum(yp)-f.subs(x,xp[0])-f.subs(x,xp[100]))*dx/2\n",
    "print(T)\n",
    "print(\"same as average of L and R\")"
   ]
  },
  {
   "cell_type": "code",
   "execution_count": 54,
   "metadata": {
    "collapsed": false
   },
   "outputs": [
    {
     "name": "stdout",
     "output_type": "stream",
     "text": [
      "Problem 4(c)\n"
     ]
    },
    {
     "data": {
      "image/png": "[encoded data removed]",
      "text/plain": [
       "<matplotlib.figure.Figure at 0x109f8b588>"
      ]
     },
     "metadata": {},
     "output_type": "display_data"
    },
    {
     "data": {
      "text/plain": [
       "[<matplotlib.lines.Line2D at 0x114bd27f0>]"
      ]
     },
     "execution_count": 54,
     "metadata": {},
     "output_type": "execute_result"
    }
   ],
   "source": [
    "print(\"Problem 4(c)\")\n",
    "x=symbols('x')\n",
    "f=exp(x/2)/x**3\n",
    "plot(f,(x,1,5))\n",
    "xp=[1,2,3,4,5]\n",
    "yp=[f.subs({x:i}) for i in xp]\n",
    "import matplotlib.pyplot as plt\n",
    "plt.plot(xp,yp)"
   ]
  },
  {
   "cell_type": "code",
   "execution_count": 55,
   "metadata": {
    "collapsed": false
   },
   "outputs": [
    {
     "name": "stdout",
     "output_type": "stream",
     "text": [
      "Problem 5\n",
      "1.21121065128460\n"
     ]
    }
   ],
   "source": [
    "print(\"Problem 5\")\n",
    "from scipy.integrate import simps\n",
    "xp = np.arange(1,5+dx,dx)\n",
    "yp = E**(xp/2)/xp**3\n",
    "simp = simps(yp,xp)\n",
    "print(simp)"
   ]
  },
  {
   "cell_type": "code",
   "execution_count": 56,
   "metadata": {
    "collapsed": false
   },
   "outputs": [
    {
     "name": "stdout",
     "output_type": "stream",
     "text": [
      "Problem 5(b)\n",
      "L error =  0.0315732424158897\n",
      "R error =  0.0304772103446904\n",
      "M error =  0.000273911226927659\n",
      "T error =  0.000548016035599508\n",
      "simp error =  1.02678460200956e-6\n"
     ]
    }
   ],
   "source": [
    "print(\"Problem 5(b)\")\n",
    "exact = 1.2112096245\n",
    "print(\"L error = \", abs(L-exact))\n",
    "print(\"R error = \", abs(R-exact))\n",
    "print(\"M error = \", abs(M-exact))\n",
    "print(\"T error = \", abs(T-exact))\n",
    "print(\"simp error = \", abs(simp-exact))"
   ]
  },
  {
   "cell_type": "code",
   "execution_count": null,
   "metadata": {
    "collapsed": true
   },
   "outputs": [],
   "source": []
  }
 ],
 "metadata": {
  "kernelspec": {
   "display_name": "Python 3",
   "language": "python",
   "name": "python3"
  },
  "language_info": {
   "codemirror_mode": {
    "name": "ipython",
    "version": 3
   },
   "file_extension": ".py",
   "mimetype": "text/x-python",
   "name": "python",
   "nbconvert_exporter": "python",
   "pygments_lexer": "ipython3",
   "version": "3.6.0"
  }
 },
 "nbformat": 4,
 "nbformat_minor": 2
}
