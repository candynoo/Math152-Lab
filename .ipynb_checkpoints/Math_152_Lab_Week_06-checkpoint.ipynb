{
 "cells": [
  {
   "cell_type": "markdown",
   "metadata": {},
   "source": [
    "## Math 152 Lab - Assignment 4 ##"
   ]
  },
  {
   "cell_type": "markdown",
   "metadata": {},
   "source": [
    "## Section 529, 530, 540 ##"
   ]
  },
  {
   "cell_type": "markdown",
   "metadata": {},
   "source": [
    "### Jingya Yan ###\n",
    "\n",
    "Email: jingya.yan@math.tamu.edu\n",
    "\n",
    "Office Hour (for lab only): Wednesday 3-4pm (or by appointment)"
   ]
  },
  {
   "cell_type": "markdown",
   "metadata": {},
   "source": [
    "### 1. Assignment Instructions ###"
   ]
  },
  {
   "cell_type": "markdown",
   "metadata": {},
   "source": [
    "http://calclab.math.tamu.edu/Python/LabSched152.html\n",
    "\n",
    "Make sure you are using the template given in the link.\n",
    "\n",
    "(open the course schedule page and right click on the template link and select \"save as\")\n",
    "\n",
    "Make sure you are using Python 3, the codes may not perform as expected in Python 2.\n",
    "\n",
    "Each team turns in one printed file at next week's lab.\n",
    "\n",
    "If your team size drops below 3, I will try combine your team with others.\n",
    "#### Assignment 4 will be due on Feb 24 (next Monday). ####\n"
   ]
  },
  {
   "cell_type": "markdown",
   "metadata": {},
   "source": [
    "### 2. Overview ###\n",
    "\n",
    "http://calclab.math.tamu.edu/Python/Lab4_152Overview.pdf"
   ]
  },
  {
   "cell_type": "markdown",
   "metadata": {},
   "source": [
    "### 3. Some Useful Commands ###"
   ]
  },
  {
   "cell_type": "markdown",
   "metadata": {},
   "source": [
    "#### This week we are going to use both sympy and numpy packages, so the import will be different from before.####"
   ]
  },
  {
   "cell_type": "code",
   "execution_count": 19,
   "metadata": {
    "collapsed": true
   },
   "outputs": [],
   "source": [
    "from numpy import *   # import numpy package\n",
    "import sympy as sp    # all the sympy command should be in the form sp.command"
   ]
  },
  {
   "cell_type": "markdown",
   "metadata": {},
   "source": [
    "#### arange ####\n",
    "\n",
    "This command comes from numpy package, it is being used to generate equally-spaced arrays. Can be used to plot functions instead of symbolic plot, but mainly used here to easily generate function values used to approximate integrals.\n",
    "\n",
    "https://docs.scipy.org/doc/numpy/reference/generated/numpy.arange.html\n"
   ]
  },
  {
   "cell_type": "code",
   "execution_count": 32,
   "metadata": {
    "collapsed": false
   },
   "outputs": [
    {
     "name": "stdout",
     "output_type": "stream",
     "text": [
      "[ 1.   1.4  1.8  2.2  2.6  3.   3.4  3.8  4.2  4.6]\n",
      "[ 1.4  1.8  2.2  2.6  3.   3.4  3.8  4.2  4.6  5. ]\n",
      "[ 1.2  1.6  2.   2.4  2.8  3.2  3.6  4.   4.4  4.8]\n"
     ]
    }
   ],
   "source": [
    "dx = (5-1)/10\n",
    "xp_L = arange(1,5,dx)      # generate list of numbers from 1 to 1+9*dx (Left end of intervals)\n",
    "print(xp)\n",
    "\n",
    "xp_R = arange(1+dx, 5+dx,dx)      # generate number from 1+dx to 5 (Right end of intervals)\n",
    "print(xp_R)\n",
    "\n",
    "xp_M = arange(1+dx/2, 5+dx/2,dx)      # generate numbers from 1+dx/2 to 1+9*dx/2 (Midpoint of intervals)\n",
    "print(xp_M)"
   ]
  },
  {
   "cell_type": "markdown",
   "metadata": {},
   "source": [
    "#### sum ####\n",
    "\n",
    "This command comes from numpy package, it can sum all the value in the lists.\n",
    "\n",
    "https://numpy.org/doc/1.18/reference/generated/numpy.sum.html"
   ]
  },
  {
   "cell_type": "code",
   "execution_count": 41,
   "metadata": {
    "collapsed": false
   },
   "outputs": [
    {
     "name": "stdout",
     "output_type": "stream",
     "text": [
      "118.493339576359\n"
     ]
    }
   ],
   "source": [
    "dx = (5-1)/10\n",
    "xp_L = arange(1,5,dx)\n",
    "yp = E**(xp_L)      # each number in this list is the exponential of every number in list xp\n",
    "s = sum(yp) *dx         # sum the numbers in yp\n",
    "print(s)"
   ]
  },
  {
   "cell_type": "markdown",
   "metadata": {},
   "source": [
    "#### scipy.integrate.trapz ####\n",
    "\n",
    "Used to approximate integrals with the Trapezoid Rule based on given y-values\n",
    "\n",
    "https://urldefense.proofpoint.com/v2/url?u=https-3A__docs.scipy.org_doc_scipy_reference_generated_scipy.integrate.trapz.html&d=DwMFaQ&c=u6LDEWzohnDQ01ySGnxMzg&r=0S5Vp3YJyAl2qMyYOYqVE-tUOvBz75Wirkf-T3iD8UU&m=Qqlw4PaLmQMKOKCRGahYnFK9ZXy1mfE6eeDdFimud8M&s=lSKTDTtJUNZf7bHTVCmaoaURHIRddy0sUrO532DhnH8&e="
   ]
  },
  {
   "cell_type": "code",
   "execution_count": 42,
   "metadata": {
    "collapsed": false
   },
   "outputs": [
    {
     "name": "stdout",
     "output_type": "stream",
     "text": [
      "[ 1.   1.4  1.8  2.2  2.6  3.   3.4  3.8  4.2  4.6  5. ]\n",
      "147.632315031182\n"
     ]
    }
   ],
   "source": [
    "from scipy.integrate import trapz     # need to import package\n",
    "dx = (5-1)/10\n",
    "xp = arange(1,5+dx,dx)     # the list should include numbers from 1, 1.4,..., 4.6, 5\n",
    "print(xp)\n",
    "yp = E**(xp)      # each number in this list is the exponential of every number in list xp\n",
    "Trap = trapz(yp,xp)\n",
    "print(Trap)         # The output is approximate integral of f(x)=exp(x) with the Trapezoid Rule"
   ]
  },
  {
   "cell_type": "markdown",
   "metadata": {},
   "source": [
    "#### scipy.integrate.simps ####\n",
    "\n",
    "Used to approximate integrals with Simpson's Method based on given y-values\n",
    "\n",
    "https://urldefense.proofpoint.com/v2/url?u=https-3A__docs.scipy.org_doc_scipy_reference_generated_scipy.integrate.simps.html&d=DwMFaQ&c=u6LDEWzohnDQ01ySGnxMzg&r=0S5Vp3YJyAl2qMyYOYqVE-tUOvBz75Wirkf-T3iD8UU&m=Qqlw4PaLmQMKOKCRGahYnFK9ZXy1mfE6eeDdFimud8M&s=pzK2AI6tpc55iCeoKb_t-0V4jO7puHSdFFMUfvodKjg&e="
   ]
  },
  {
   "cell_type": "code",
   "execution_count": 44,
   "metadata": {
    "collapsed": false
   },
   "outputs": [
    {
     "name": "stdout",
     "output_type": "stream",
     "text": [
      "[ 1.   1.4  1.8  2.2  2.6  3.   3.4  3.8  4.2  4.6  5. ]\n",
      "145.715210160708\n"
     ]
    }
   ],
   "source": [
    "from scipy.integrate import simps     # need to import package\n",
    "dx = (5-1)/10\n",
    "xp = arange(1,5+dx,dx)     # the list should include numbers from 1, 1.4,..., 4.6, 5\n",
    "print(xp)\n",
    "yp = E**(xp)      # each number in this list is the exponential of every number in list xp\n",
    "Simp = simps(yp,xp)\n",
    "print(Simp)         # The output is approximate integral of f(x)=exp(x) with the Trapezoid Rule"
   ]
  },
  {
   "cell_type": "markdown",
   "metadata": {},
   "source": [
    "#### Define Symbols ####\n",
    "\n",
    "https://urldefense.proofpoint.com/v2/url?u=https-3A__docs.sympy.org_latest_tutorial_intro.html-23a-2Dmore-2Dinteresting-2Dexample&d=DwMFaQ&c=u6LDEWzohnDQ01ySGnxMzg&r=0S5Vp3YJyAl2qMyYOYqVE-tUOvBz75Wirkf-T3iD8UU&m=J5TIah_hJ8O3kmRX_Dx6jVouBmOQDR5ys2rnuGKsidY&s=67RRGhDkcSEJuyf79U5FQTe6FJWXmCHlkPp4aE5cUxk&e="
   ]
  },
  {
   "cell_type": "code",
   "execution_count": 20,
   "metadata": {
    "collapsed": false
   },
   "outputs": [],
   "source": [
    "x = sp.symbols('x')    # x will be a symbold\n",
    "a,b,c,d = sp.symbols('a,b,c,d')    # define multiple symbols at a time"
   ]
  },
  {
   "cell_type": "markdown",
   "metadata": {},
   "source": [
    "#### Define a Function ####\n",
    "\n",
    "https://docs.sympy.org/latest/tutorial/intro.html#a-more-interesting-example"
   ]
  },
  {
   "cell_type": "code",
   "execution_count": 22,
   "metadata": {
    "collapsed": false
   },
   "outputs": [
    {
     "name": "stdout",
     "output_type": "stream",
     "text": [
      "f= exp(x)/log(x)\n"
     ]
    }
   ],
   "source": [
    "x = sp.symbols('x')    # Define a symbol as variable or you'll receive error while running\n",
    "f = sp.E**(x)/ln(x)    # Define any function you want with x as variable\n",
    "print(\"f=\",f)"
   ]
  },
  {
   "cell_type": "markdown",
   "metadata": {},
   "source": [
    "#### Substitution ####\n",
    "\n",
    "https://docs.sympy.org/latest/tutorial/basic_operations.html#substitution"
   ]
  },
  {
   "cell_type": "code",
   "execution_count": 23,
   "metadata": {
    "collapsed": false
   },
   "outputs": [
    {
     "name": "stdout",
     "output_type": "stream",
     "text": [
      "8\n"
     ]
    }
   ],
   "source": [
    "x = sp.symbols('x')    # Define variable\n",
    "f = x ** 3           # Define a function of x\n",
    "f_2 = f.subs(x,2)   # Find the value of f when x=2\n",
    "print(f_2)"
   ]
  },
  {
   "cell_type": "code",
   "execution_count": 24,
   "metadata": {
    "collapsed": false
   },
   "outputs": [
    {
     "name": "stdout",
     "output_type": "stream",
     "text": [
      "y**3\n"
     ]
    }
   ],
   "source": [
    "y = sp.symbols('y')\n",
    "f_y = f.subs(x,y)   # Substitude x by y\n",
    "print(f_y)"
   ]
  },
  {
   "cell_type": "code",
   "execution_count": 25,
   "metadata": {
    "collapsed": false
   },
   "outputs": [
    {
     "name": "stdout",
     "output_type": "stream",
     "text": [
      "10\n"
     ]
    }
   ],
   "source": [
    "a,b,c,d = sp.symbols('a,b,c,d')\n",
    "f = a+b+c+d\n",
    "print(f.subs([(a,1),(b,2),(c,3),(d,4)]))    # Substitude multiple numbers at a time"
   ]
  },
  {
   "cell_type": "markdown",
   "metadata": {},
   "source": [
    "#### Plot and Plot_parametric ####\n",
    "\n",
    "https://docs.sympy.org/latest/modules/plotting.html#plotting-function-reference\n",
    "\n",
    "https://docs.sympy.org/0.7.5/modules/mpmath/plotting.html\n",
    "\n",
    "https://docs.sympy.org/latest/modules/plotting.html#sympy.plotting.plot.Plot.extend"
   ]
  },
  {
   "cell_type": "code",
   "execution_count": 26,
   "metadata": {
    "collapsed": false
   },
   "outputs": [
    {
     "data": {
      "image/png": "[encoded data removed]",
      "text/plain": [
       "<matplotlib.figure.Figure at 0x112a1a828>"
      ]
     },
     "metadata": {},
     "output_type": "display_data"
    }
   ],
   "source": [
    "x = symbols('x')\n",
    "f = x ** 3      \n",
    "graph = plot_parametric(x,f,(x,-3,3),ylim=[-8,8])   \n",
    "# plotting a graph that x on horizontal, f on vertical, -3<x<3 and y-axis shows the value from -8 to 8"
   ]
  },
  {
   "cell_type": "code",
   "execution_count": 27,
   "metadata": {
    "collapsed": false
   },
   "outputs": [
    {
     "ename": "AttributeError",
     "evalue": "'Symbol' object has no attribute 'exp'",
     "output_type": "error",
     "traceback": [
      "\u001b[0;31m---------------------------------------------------------------------------\u001b[0m",
      "\u001b[0;31mAttributeError\u001b[0m                            Traceback (most recent call last)",
      "\u001b[0;32m<ipython-input-27-b19f0dd06b33>\u001b[0m in \u001b[0;36m<module>\u001b[0;34m()\u001b[0m\n\u001b[0;32m----> 1\u001b[0;31m \u001b[0mf2\u001b[0m \u001b[0;34m=\u001b[0m \u001b[0mexp\u001b[0m\u001b[0;34m(\u001b[0m\u001b[0mx\u001b[0m\u001b[0;34m)\u001b[0m\u001b[0;34m\u001b[0m\u001b[0m\n\u001b[0m\u001b[1;32m      2\u001b[0m \u001b[0mgraph2\u001b[0m \u001b[0;34m=\u001b[0m \u001b[0mplot_parametric\u001b[0m\u001b[0;34m(\u001b[0m\u001b[0mx\u001b[0m\u001b[0;34m,\u001b[0m\u001b[0mf2\u001b[0m\u001b[0;34m,\u001b[0m\u001b[0;34m(\u001b[0m\u001b[0mx\u001b[0m\u001b[0;34m,\u001b[0m\u001b[0;34m-\u001b[0m\u001b[0;36m4\u001b[0m\u001b[0;34m,\u001b[0m\u001b[0;36m4\u001b[0m\u001b[0;34m)\u001b[0m\u001b[0;34m,\u001b[0m\u001b[0mylim\u001b[0m\u001b[0;34m=\u001b[0m\u001b[0;34m[\u001b[0m\u001b[0;34m-\u001b[0m\u001b[0;36m8\u001b[0m\u001b[0;34m,\u001b[0m\u001b[0;36m8\u001b[0m\u001b[0;34m]\u001b[0m\u001b[0;34m,\u001b[0m\u001b[0mshow\u001b[0m\u001b[0;34m=\u001b[0m\u001b[0mfalse\u001b[0m\u001b[0;34m)\u001b[0m     \u001b[0;31m# Define another graph, but not showing immediately\u001b[0m\u001b[0;34m\u001b[0m\u001b[0m\n\u001b[1;32m      3\u001b[0m \u001b[0mgraph\u001b[0m\u001b[0;34m.\u001b[0m\u001b[0mextend\u001b[0m\u001b[0;34m(\u001b[0m\u001b[0mgraph2\u001b[0m\u001b[0;34m)\u001b[0m    \u001b[0;31m# Show graph2 and graph in the same picture, now graph contains two lines\u001b[0m\u001b[0;34m\u001b[0m\u001b[0m\n\u001b[1;32m      4\u001b[0m \u001b[0mgraph\u001b[0m\u001b[0;34m.\u001b[0m\u001b[0mshow\u001b[0m\u001b[0;34m(\u001b[0m\u001b[0;34m)\u001b[0m            \u001b[0;31m# Command for showing graph\u001b[0m\u001b[0;34m\u001b[0m\u001b[0m\n",
      "\u001b[0;31mAttributeError\u001b[0m: 'Symbol' object has no attribute 'exp'"
     ]
    }
   ],
   "source": [
    "f2 = exp(x)\n",
    "graph2 = plot_parametric(x,f2,(x,-4,4),ylim=[-8,8],show=false)     # Define another graph, but not showing immediately\n",
    "graph.extend(graph2)    # Show graph2 and graph in the same picture, now graph contains two lines\n",
    "graph.show()            # Command for showing graph"
   ]
  },
  {
   "cell_type": "code",
   "execution_count": 28,
   "metadata": {
    "collapsed": false
   },
   "outputs": [
    {
     "data": {
      "image/png": "[encoded data removed]",
      "text/plain": [
       "<matplotlib.figure.Figure at 0x112c0fe10>"
      ]
     },
     "metadata": {},
     "output_type": "display_data"
    }
   ],
   "source": [
    "# plot several functions in same graph \n",
    "f = x\n",
    "g = x **2 \n",
    "h = x **3\n",
    "graph = plot((f,(x,-3,3)),(g,(x,-3,3)),(h,(x,-3,3)),(3,(x,-3,3)), ylim=[-10,10])"
   ]
  },
  {
   "cell_type": "code",
   "execution_count": 29,
   "metadata": {
    "collapsed": false
   },
   "outputs": [
    {
     "data": {
      "image/png": "[encoded data removed]",
      "text/plain": [
       "<matplotlib.figure.Figure at 0x112b0c908>"
      ]
     },
     "metadata": {},
     "output_type": "display_data"
    },
    {
     "data": {
      "text/plain": [
       "<sympy.plotting.plot.Plot at 0x10759ae48>"
      ]
     },
     "execution_count": 29,
     "metadata": {},
     "output_type": "execute_result"
    }
   ],
   "source": [
    "# plot parametric functions\n",
    "t = symbols('t')\n",
    "x = t**3\n",
    "y = t**2\n",
    "plot_parametric(x,y,(t,-2,2),xlim = [-10,10], ylim=[-1,5])"
   ]
  },
  {
   "cell_type": "code",
   "execution_count": null,
   "metadata": {
    "collapsed": true
   },
   "outputs": [],
   "source": []
  }
 ],
 "metadata": {
  "kernelspec": {
   "display_name": "Python 3",
   "language": "python",
   "name": "python3"
  },
  "language_info": {
   "codemirror_mode": {
    "name": "ipython",
    "version": 3
   },
   "file_extension": ".py",
   "mimetype": "text/x-python",
   "name": "python",
   "nbconvert_exporter": "python",
   "pygments_lexer": "ipython3",
   "version": "3.6.0"
  }
 },
 "nbformat": 4,
 "nbformat_minor": 2
}
