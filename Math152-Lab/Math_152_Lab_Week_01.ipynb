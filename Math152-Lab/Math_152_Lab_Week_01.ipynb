{
 "cells": [
  {
   "cell_type": "markdown",
   "metadata": {},
   "source": [
    "# Math 152 Lab - Week 1 #"
   ]
  },
  {
   "cell_type": "markdown",
   "metadata": {},
   "source": [
    "## Section 529, 530, 540 ##"
   ]
  },
  {
   "cell_type": "markdown",
   "metadata": {},
   "source": [
    "### Jingya Yan ###\n",
    "jingya.yan@math.tamu.edu"
   ]
  },
  {
   "cell_type": "markdown",
   "metadata": {},
   "source": [
    "### 1. Overview ###"
   ]
  },
  {
   "cell_type": "markdown",
   "metadata": {},
   "source": [
    "Devices, logging in issues"
   ]
  },
  {
   "cell_type": "markdown",
   "metadata": {},
   "source": [
    "### 2. Resources: ###"
   ]
  },
  {
   "cell_type": "markdown",
   "metadata": {},
   "source": [
    "Lab notes: https://www.math.tamu.edu/~jingya.yan/"
   ]
  },
  {
   "cell_type": "markdown",
   "metadata": {},
   "source": [
    "Lab Schedule: http://calclab.math.tamu.edu/Python/LabSched152.html"
   ]
  },
  {
   "cell_type": "markdown",
   "metadata": {},
   "source": [
    "Week in Review Session: https://www.math.tamu.edu/courses/weekinreview.html"
   ]
  },
  {
   "cell_type": "markdown",
   "metadata": {},
   "source": [
    "Help Session: https://www.math.tamu.edu/courses/helpsessions.html"
   ]
  },
  {
   "cell_type": "markdown",
   "metadata": {},
   "source": [
    "Sample Codes from Math151: https://github.com/candynoo/Math151-Lab"
   ]
  },
  {
   "cell_type": "markdown",
   "metadata": {},
   "source": [
    "### 3. Teams ###"
   ]
  },
  {
   "cell_type": "markdown",
   "metadata": {},
   "source": [
    "3-4 people per team （Sign up before recitation on Week2)"
   ]
  },
  {
   "cell_type": "markdown",
   "metadata": {},
   "source": [
    "### 4. Assignments ###"
   ]
  },
  {
   "cell_type": "markdown",
   "metadata": {},
   "source": [
    "Problems will be based on previous week's course. Students will work together in their assigned teams during lab to complete as many of the problems as possible. All unfinished problems must be completed before the start of the next computer lab.\n",
    "\n",
    "You will use a Jupyter Notebook. On the Calclab server, Jupyter is located under \"Applications/Mathematics\" in the toolbar. You do not have to run each problem in one block of code, but problems should be separated by explanatory text (change \"Code\" to \"Markdown\" in the appropriate drop-down menu, then press Shift-Enter when you are done.)\n",
    "\n",
    "When you have finished, convert your notebook to PDF using the following steps:\n",
    "Select \"File/Print Preview\"\n",
    "\n",
    "Print the resulting screen (Ctrl-P) and select \"Save as PDF\" as the printer.\n",
    "\n",
    "Team members' names should be entered at the beginning of the file (see the template for more details).\n",
    "\n",
    "Do any hand/setup work on scratch paper, which will not be submitted. All computational aspects of each problem must be done in Python\n",
    "\n",
    "Attendance in lab is strongly encouraged, as you are able to get help from each other and from the TA during that time.\n",
    "\n",
    "(Each group turns in one file!!!)"
   ]
  },
  {
   "cell_type": "markdown",
   "metadata": {
    "collapsed": true
   },
   "source": [
    "### 5. Lab 1 Overview###"
   ]
  },
  {
   "cell_type": "markdown",
   "metadata": {},
   "source": [
    "Lab1 has been posted on Lab Schedule page and is due on Jan29 (Recitation on Week 3) \n",
    "\n",
    "As there will not be a lab session on week2, we are going to discuss the Lab1 on Recitation of Week1."
   ]
  },
  {
   "cell_type": "markdown",
   "metadata": {},
   "source": [
    "### 6. Python in Math152 ###    "
   ]
  },
  {
   "cell_type": "markdown",
   "metadata": {},
   "source": [
    "http://calclab.math.tamu.edu/Python/M152Overview.pdf"
   ]
  }
 ],
 "metadata": {
  "kernelspec": {
   "display_name": "Python 3",
   "language": "python",
   "name": "python3"
  },
  "language_info": {
   "codemirror_mode": {
    "name": "ipython",
    "version": 3
   },
   "file_extension": ".py",
   "mimetype": "text/x-python",
   "name": "python",
   "nbconvert_exporter": "python",
   "pygments_lexer": "ipython3",
   "version": "3.6.0"
  }
 },
 "nbformat": 4,
 "nbformat_minor": 2
}
